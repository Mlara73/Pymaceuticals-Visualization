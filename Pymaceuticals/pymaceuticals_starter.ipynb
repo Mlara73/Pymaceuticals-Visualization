{
 "cells": [
  {
   "cell_type": "markdown",
   "metadata": {},
   "source": [
    "## Observations and Insights "
   ]
  },
  {
   "cell_type": "markdown",
   "metadata": {},
   "source": []
  },
  {
   "cell_type": "markdown",
   "metadata": {},
   "source": [
    "#### Importing modules, libraries and cleaning the raw data"
   ]
  },
  {
   "cell_type": "code",
   "execution_count": 1,
   "metadata": {},
   "outputs": [
    {
     "data": {
      "text/html": [
       "<div>\n",
       "<style scoped>\n",
       "    .dataframe tbody tr th:only-of-type {\n",
       "        vertical-align: middle;\n",
       "    }\n",
       "\n",
       "    .dataframe tbody tr th {\n",
       "        vertical-align: top;\n",
       "    }\n",
       "\n",
       "    .dataframe thead th {\n",
       "        text-align: right;\n",
       "    }\n",
       "</style>\n",
       "<table border=\"1\" class=\"dataframe\">\n",
       "  <thead>\n",
       "    <tr style=\"text-align: right;\">\n",
       "      <th></th>\n",
       "      <th>Mouse ID</th>\n",
       "      <th>Drug Regimen</th>\n",
       "      <th>Sex</th>\n",
       "      <th>Age_months</th>\n",
       "      <th>Weight (g)</th>\n",
       "      <th>Timepoint</th>\n",
       "      <th>Tumor Volume (mm3)</th>\n",
       "      <th>Metastatic Sites</th>\n",
       "    </tr>\n",
       "  </thead>\n",
       "  <tbody>\n",
       "    <tr>\n",
       "      <th>0</th>\n",
       "      <td>k403</td>\n",
       "      <td>Ramicane</td>\n",
       "      <td>Male</td>\n",
       "      <td>21</td>\n",
       "      <td>16</td>\n",
       "      <td>0</td>\n",
       "      <td>45.000000</td>\n",
       "      <td>0</td>\n",
       "    </tr>\n",
       "    <tr>\n",
       "      <th>1</th>\n",
       "      <td>k403</td>\n",
       "      <td>Ramicane</td>\n",
       "      <td>Male</td>\n",
       "      <td>21</td>\n",
       "      <td>16</td>\n",
       "      <td>5</td>\n",
       "      <td>38.825898</td>\n",
       "      <td>0</td>\n",
       "    </tr>\n",
       "    <tr>\n",
       "      <th>2</th>\n",
       "      <td>k403</td>\n",
       "      <td>Ramicane</td>\n",
       "      <td>Male</td>\n",
       "      <td>21</td>\n",
       "      <td>16</td>\n",
       "      <td>10</td>\n",
       "      <td>35.014271</td>\n",
       "      <td>1</td>\n",
       "    </tr>\n",
       "    <tr>\n",
       "      <th>3</th>\n",
       "      <td>k403</td>\n",
       "      <td>Ramicane</td>\n",
       "      <td>Male</td>\n",
       "      <td>21</td>\n",
       "      <td>16</td>\n",
       "      <td>15</td>\n",
       "      <td>34.223992</td>\n",
       "      <td>1</td>\n",
       "    </tr>\n",
       "    <tr>\n",
       "      <th>4</th>\n",
       "      <td>k403</td>\n",
       "      <td>Ramicane</td>\n",
       "      <td>Male</td>\n",
       "      <td>21</td>\n",
       "      <td>16</td>\n",
       "      <td>20</td>\n",
       "      <td>32.997729</td>\n",
       "      <td>1</td>\n",
       "    </tr>\n",
       "  </tbody>\n",
       "</table>\n",
       "</div>"
      ],
      "text/plain": [
       "  Mouse ID Drug Regimen   Sex  Age_months  Weight (g)  Timepoint  \\\n",
       "0     k403     Ramicane  Male          21          16          0   \n",
       "1     k403     Ramicane  Male          21          16          5   \n",
       "2     k403     Ramicane  Male          21          16         10   \n",
       "3     k403     Ramicane  Male          21          16         15   \n",
       "4     k403     Ramicane  Male          21          16         20   \n",
       "\n",
       "   Tumor Volume (mm3)  Metastatic Sites  \n",
       "0           45.000000                 0  \n",
       "1           38.825898                 0  \n",
       "2           35.014271                 1  \n",
       "3           34.223992                 1  \n",
       "4           32.997729                 1  "
      ]
     },
     "execution_count": 1,
     "metadata": {},
     "output_type": "execute_result"
    }
   ],
   "source": [
    "# Dependencies and Setup\n",
    "import matplotlib.pyplot as plt\n",
    "import pandas as pd\n",
    "import scipy.stats as st\n",
    "import numpy as np\n",
    "\n",
    "# Opening data files\n",
    "mouse_metadata_path = \"data/Mouse_metadata.csv\"\n",
    "study_results_path = \"data/Study_results.csv\"\n",
    "\n",
    "# Reading the mouse data and the study results\n",
    "mouse_metadata = pd.read_csv(mouse_metadata_path)\n",
    "study_results = pd.read_csv(study_results_path)\n",
    "\n",
    "# Combining the data into a single dataset\n",
    "\n",
    "combined_results = pd.merge(mouse_metadata,study_results, on=\"Mouse ID\", how=\"outer\")\n",
    "combined_results.head()"
   ]
  },
  {
   "cell_type": "code",
   "execution_count": 2,
   "metadata": {},
   "outputs": [
    {
     "data": {
      "text/plain": [
       "1893"
      ]
     },
     "execution_count": 2,
     "metadata": {},
     "output_type": "execute_result"
    }
   ],
   "source": [
    "# Checking the number of mice in the DataFrame.\n",
    "combined_results[\"Mouse ID\"].count()"
   ]
  },
  {
   "cell_type": "code",
   "execution_count": 3,
   "metadata": {},
   "outputs": [
    {
     "data": {
      "text/plain": [
       "Mouse ID               object\n",
       "Drug Regimen           object\n",
       "Sex                    object\n",
       "Age_months              int64\n",
       "Weight (g)              int64\n",
       "Timepoint               int64\n",
       "Tumor Volume (mm3)    float64\n",
       "Metastatic Sites        int64\n",
       "dtype: object"
      ]
     },
     "execution_count": 3,
     "metadata": {},
     "output_type": "execute_result"
    }
   ],
   "source": [
    "#Checking columns variable types.\n",
    "combined_results.dtypes"
   ]
  },
  {
   "cell_type": "code",
   "execution_count": 4,
   "metadata": {},
   "outputs": [
    {
     "data": {
      "text/html": [
       "<div>\n",
       "<style scoped>\n",
       "    .dataframe tbody tr th:only-of-type {\n",
       "        vertical-align: middle;\n",
       "    }\n",
       "\n",
       "    .dataframe tbody tr th {\n",
       "        vertical-align: top;\n",
       "    }\n",
       "\n",
       "    .dataframe thead th {\n",
       "        text-align: right;\n",
       "    }\n",
       "</style>\n",
       "<table border=\"1\" class=\"dataframe\">\n",
       "  <thead>\n",
       "    <tr style=\"text-align: right;\">\n",
       "      <th></th>\n",
       "      <th>Mouse ID</th>\n",
       "      <th>Drug Regimen</th>\n",
       "      <th>Sex</th>\n",
       "      <th>Age_months</th>\n",
       "      <th>Weight (g)</th>\n",
       "      <th>Timepoint</th>\n",
       "      <th>Tumor Volume (mm3)</th>\n",
       "      <th>Metastatic Sites</th>\n",
       "    </tr>\n",
       "  </thead>\n",
       "  <tbody>\n",
       "    <tr>\n",
       "      <th>909</th>\n",
       "      <td>g989</td>\n",
       "      <td>Propriva</td>\n",
       "      <td>Female</td>\n",
       "      <td>21</td>\n",
       "      <td>26</td>\n",
       "      <td>0</td>\n",
       "      <td>45.000000</td>\n",
       "      <td>0</td>\n",
       "    </tr>\n",
       "    <tr>\n",
       "      <th>911</th>\n",
       "      <td>g989</td>\n",
       "      <td>Propriva</td>\n",
       "      <td>Female</td>\n",
       "      <td>21</td>\n",
       "      <td>26</td>\n",
       "      <td>5</td>\n",
       "      <td>47.570392</td>\n",
       "      <td>0</td>\n",
       "    </tr>\n",
       "    <tr>\n",
       "      <th>913</th>\n",
       "      <td>g989</td>\n",
       "      <td>Propriva</td>\n",
       "      <td>Female</td>\n",
       "      <td>21</td>\n",
       "      <td>26</td>\n",
       "      <td>10</td>\n",
       "      <td>49.880528</td>\n",
       "      <td>0</td>\n",
       "    </tr>\n",
       "    <tr>\n",
       "      <th>915</th>\n",
       "      <td>g989</td>\n",
       "      <td>Propriva</td>\n",
       "      <td>Female</td>\n",
       "      <td>21</td>\n",
       "      <td>26</td>\n",
       "      <td>15</td>\n",
       "      <td>53.442020</td>\n",
       "      <td>0</td>\n",
       "    </tr>\n",
       "    <tr>\n",
       "      <th>917</th>\n",
       "      <td>g989</td>\n",
       "      <td>Propriva</td>\n",
       "      <td>Female</td>\n",
       "      <td>21</td>\n",
       "      <td>26</td>\n",
       "      <td>20</td>\n",
       "      <td>54.657650</td>\n",
       "      <td>1</td>\n",
       "    </tr>\n",
       "  </tbody>\n",
       "</table>\n",
       "</div>"
      ],
      "text/plain": [
       "    Mouse ID Drug Regimen     Sex  Age_months  Weight (g)  Timepoint  \\\n",
       "909     g989     Propriva  Female          21          26          0   \n",
       "911     g989     Propriva  Female          21          26          5   \n",
       "913     g989     Propriva  Female          21          26         10   \n",
       "915     g989     Propriva  Female          21          26         15   \n",
       "917     g989     Propriva  Female          21          26         20   \n",
       "\n",
       "     Tumor Volume (mm3)  Metastatic Sites  \n",
       "909           45.000000                 0  \n",
       "911           47.570392                 0  \n",
       "913           49.880528                 0  \n",
       "915           53.442020                 0  \n",
       "917           54.657650                 1  "
      ]
     },
     "execution_count": 4,
     "metadata": {},
     "output_type": "execute_result"
    }
   ],
   "source": [
    "# Getting the duplicate mice by ID number that shows up for Mouse ID and Timepoint. \n",
    "duplicate_mouse = combined_results.loc[combined_results.duplicated([\"Mouse ID\",\"Timepoint\"])]\n",
    "duplicate_mouse"
   ]
  },
  {
   "cell_type": "code",
   "execution_count": 5,
   "metadata": {},
   "outputs": [
    {
     "data": {
      "text/html": [
       "<div>\n",
       "<style scoped>\n",
       "    .dataframe tbody tr th:only-of-type {\n",
       "        vertical-align: middle;\n",
       "    }\n",
       "\n",
       "    .dataframe tbody tr th {\n",
       "        vertical-align: top;\n",
       "    }\n",
       "\n",
       "    .dataframe thead th {\n",
       "        text-align: right;\n",
       "    }\n",
       "</style>\n",
       "<table border=\"1\" class=\"dataframe\">\n",
       "  <thead>\n",
       "    <tr style=\"text-align: right;\">\n",
       "      <th></th>\n",
       "      <th>Mouse ID</th>\n",
       "      <th>Drug Regimen</th>\n",
       "      <th>Sex</th>\n",
       "      <th>Age_months</th>\n",
       "      <th>Weight (g)</th>\n",
       "      <th>Timepoint</th>\n",
       "      <th>Tumor Volume (mm3)</th>\n",
       "      <th>Metastatic Sites</th>\n",
       "    </tr>\n",
       "  </thead>\n",
       "  <tbody>\n",
       "    <tr>\n",
       "      <th>0</th>\n",
       "      <td>k403</td>\n",
       "      <td>Ramicane</td>\n",
       "      <td>Male</td>\n",
       "      <td>21</td>\n",
       "      <td>16</td>\n",
       "      <td>0</td>\n",
       "      <td>45.000000</td>\n",
       "      <td>0</td>\n",
       "    </tr>\n",
       "    <tr>\n",
       "      <th>1</th>\n",
       "      <td>k403</td>\n",
       "      <td>Ramicane</td>\n",
       "      <td>Male</td>\n",
       "      <td>21</td>\n",
       "      <td>16</td>\n",
       "      <td>5</td>\n",
       "      <td>38.825898</td>\n",
       "      <td>0</td>\n",
       "    </tr>\n",
       "    <tr>\n",
       "      <th>2</th>\n",
       "      <td>k403</td>\n",
       "      <td>Ramicane</td>\n",
       "      <td>Male</td>\n",
       "      <td>21</td>\n",
       "      <td>16</td>\n",
       "      <td>10</td>\n",
       "      <td>35.014271</td>\n",
       "      <td>1</td>\n",
       "    </tr>\n",
       "    <tr>\n",
       "      <th>3</th>\n",
       "      <td>k403</td>\n",
       "      <td>Ramicane</td>\n",
       "      <td>Male</td>\n",
       "      <td>21</td>\n",
       "      <td>16</td>\n",
       "      <td>15</td>\n",
       "      <td>34.223992</td>\n",
       "      <td>1</td>\n",
       "    </tr>\n",
       "    <tr>\n",
       "      <th>4</th>\n",
       "      <td>k403</td>\n",
       "      <td>Ramicane</td>\n",
       "      <td>Male</td>\n",
       "      <td>21</td>\n",
       "      <td>16</td>\n",
       "      <td>20</td>\n",
       "      <td>32.997729</td>\n",
       "      <td>1</td>\n",
       "    </tr>\n",
       "  </tbody>\n",
       "</table>\n",
       "</div>"
      ],
      "text/plain": [
       "  Mouse ID Drug Regimen   Sex  Age_months  Weight (g)  Timepoint  \\\n",
       "0     k403     Ramicane  Male          21          16          0   \n",
       "1     k403     Ramicane  Male          21          16          5   \n",
       "2     k403     Ramicane  Male          21          16         10   \n",
       "3     k403     Ramicane  Male          21          16         15   \n",
       "4     k403     Ramicane  Male          21          16         20   \n",
       "\n",
       "   Tumor Volume (mm3)  Metastatic Sites  \n",
       "0           45.000000                 0  \n",
       "1           38.825898                 0  \n",
       "2           35.014271                 1  \n",
       "3           34.223992                 1  \n",
       "4           32.997729                 1  "
      ]
     },
     "execution_count": 5,
     "metadata": {},
     "output_type": "execute_result"
    }
   ],
   "source": [
    "# Creating a clean DataFrame by dropping the duplicate mouse by its ID.\n",
    "clean_mouse_df= combined_results.drop_duplicates([\"Mouse ID\",\"Timepoint\"],keep=False)\n",
    "clean_mouse_df.head()"
   ]
  },
  {
   "cell_type": "code",
   "execution_count": 6,
   "metadata": {},
   "outputs": [
    {
     "data": {
      "text/plain": [
       "1883"
      ]
     },
     "execution_count": 6,
     "metadata": {},
     "output_type": "execute_result"
    }
   ],
   "source": [
    "# Checking the number of mice in the clean DataFrame.\n",
    "clean_mouse_df[\"Mouse ID\"].count()\n"
   ]
  },
  {
   "cell_type": "markdown",
   "metadata": {},
   "source": [
    "## Summary Statistics"
   ]
  },
  {
   "cell_type": "markdown",
   "metadata": {},
   "source": [
    "#### Statistics summary(mean, median, variance, standard deviation and SEM) of the tumor volume for each durg regimen"
   ]
  },
  {
   "cell_type": "markdown",
   "metadata": {},
   "source": [
    "##### Method 1: creating multiple series and putting them all together at the end"
   ]
  },
  {
   "cell_type": "code",
   "execution_count": 7,
   "metadata": {},
   "outputs": [
    {
     "data": {
      "text/html": [
       "<div>\n",
       "<style scoped>\n",
       "    .dataframe tbody tr th:only-of-type {\n",
       "        vertical-align: middle;\n",
       "    }\n",
       "\n",
       "    .dataframe tbody tr th {\n",
       "        vertical-align: top;\n",
       "    }\n",
       "\n",
       "    .dataframe thead th {\n",
       "        text-align: right;\n",
       "    }\n",
       "</style>\n",
       "<table border=\"1\" class=\"dataframe\">\n",
       "  <thead>\n",
       "    <tr style=\"text-align: right;\">\n",
       "      <th></th>\n",
       "      <th>Mean</th>\n",
       "      <th>Median</th>\n",
       "      <th>Variance</th>\n",
       "      <th>St_Deviation</th>\n",
       "      <th>Sem</th>\n",
       "    </tr>\n",
       "    <tr>\n",
       "      <th>Drug Regimen</th>\n",
       "      <th></th>\n",
       "      <th></th>\n",
       "      <th></th>\n",
       "      <th></th>\n",
       "      <th></th>\n",
       "    </tr>\n",
       "  </thead>\n",
       "  <tbody>\n",
       "    <tr>\n",
       "      <th>Capomulin</th>\n",
       "      <td>40.675741</td>\n",
       "      <td>41.557809</td>\n",
       "      <td>24.947764</td>\n",
       "      <td>4.994774</td>\n",
       "      <td>0.329346</td>\n",
       "    </tr>\n",
       "    <tr>\n",
       "      <th>Ceftamin</th>\n",
       "      <td>52.591172</td>\n",
       "      <td>51.776157</td>\n",
       "      <td>39.290177</td>\n",
       "      <td>6.268188</td>\n",
       "      <td>0.469821</td>\n",
       "    </tr>\n",
       "    <tr>\n",
       "      <th>Infubinol</th>\n",
       "      <td>52.884795</td>\n",
       "      <td>51.820584</td>\n",
       "      <td>43.128684</td>\n",
       "      <td>6.567243</td>\n",
       "      <td>0.492236</td>\n",
       "    </tr>\n",
       "    <tr>\n",
       "      <th>Ketapril</th>\n",
       "      <td>55.235638</td>\n",
       "      <td>53.698743</td>\n",
       "      <td>68.553577</td>\n",
       "      <td>8.279709</td>\n",
       "      <td>0.603860</td>\n",
       "    </tr>\n",
       "    <tr>\n",
       "      <th>Naftisol</th>\n",
       "      <td>54.331565</td>\n",
       "      <td>52.509285</td>\n",
       "      <td>66.173479</td>\n",
       "      <td>8.134708</td>\n",
       "      <td>0.596466</td>\n",
       "    </tr>\n",
       "    <tr>\n",
       "      <th>Placebo</th>\n",
       "      <td>54.033581</td>\n",
       "      <td>52.288934</td>\n",
       "      <td>61.168083</td>\n",
       "      <td>7.821003</td>\n",
       "      <td>0.581331</td>\n",
       "    </tr>\n",
       "    <tr>\n",
       "      <th>Propriva</th>\n",
       "      <td>52.458254</td>\n",
       "      <td>50.854632</td>\n",
       "      <td>44.053659</td>\n",
       "      <td>6.637293</td>\n",
       "      <td>0.540135</td>\n",
       "    </tr>\n",
       "    <tr>\n",
       "      <th>Ramicane</th>\n",
       "      <td>40.216745</td>\n",
       "      <td>40.673236</td>\n",
       "      <td>23.486704</td>\n",
       "      <td>4.846308</td>\n",
       "      <td>0.320955</td>\n",
       "    </tr>\n",
       "    <tr>\n",
       "      <th>Stelasyn</th>\n",
       "      <td>54.233149</td>\n",
       "      <td>52.431737</td>\n",
       "      <td>59.450562</td>\n",
       "      <td>7.710419</td>\n",
       "      <td>0.573111</td>\n",
       "    </tr>\n",
       "    <tr>\n",
       "      <th>Zoniferol</th>\n",
       "      <td>53.236507</td>\n",
       "      <td>51.818479</td>\n",
       "      <td>48.533355</td>\n",
       "      <td>6.966589</td>\n",
       "      <td>0.516398</td>\n",
       "    </tr>\n",
       "  </tbody>\n",
       "</table>\n",
       "</div>"
      ],
      "text/plain": [
       "                   Mean     Median   Variance  St_Deviation       Sem\n",
       "Drug Regimen                                                         \n",
       "Capomulin     40.675741  41.557809  24.947764      4.994774  0.329346\n",
       "Ceftamin      52.591172  51.776157  39.290177      6.268188  0.469821\n",
       "Infubinol     52.884795  51.820584  43.128684      6.567243  0.492236\n",
       "Ketapril      55.235638  53.698743  68.553577      8.279709  0.603860\n",
       "Naftisol      54.331565  52.509285  66.173479      8.134708  0.596466\n",
       "Placebo       54.033581  52.288934  61.168083      7.821003  0.581331\n",
       "Propriva      52.458254  50.854632  44.053659      6.637293  0.540135\n",
       "Ramicane      40.216745  40.673236  23.486704      4.846308  0.320955\n",
       "Stelasyn      54.233149  52.431737  59.450562      7.710419  0.573111\n",
       "Zoniferol     53.236507  51.818479  48.533355      6.966589  0.516398"
      ]
     },
     "execution_count": 7,
     "metadata": {},
     "output_type": "execute_result"
    }
   ],
   "source": [
    "# Generate a summary statistics table of mean, median, variance, standard deviation, and SEM of the tumor volume for each regimen\n",
    "# This method is the most straightforward, creating multiple series and putting them all together at the end.\n",
    "drug_regimen= clean_mouse_df.groupby(\"Drug Regimen\")\n",
    "drug_regimen[\"Tumor Volume (mm3)\"].count()\n",
    "drug_regimen_mean= drug_regimen[\"Tumor Volume (mm3)\"].mean()\n",
    "drug_regimen_median= drug_regimen[\"Tumor Volume (mm3)\"].median()\n",
    "drug_regimen_var= drug_regimen[\"Tumor Volume (mm3)\"].var()\n",
    "drug_regimen_std= drug_regimen[\"Tumor Volume (mm3)\"].std()\n",
    "drug_regimen_sem= drug_regimen[\"Tumor Volume (mm3)\"].sem()\n",
    "\n",
    "drug_regimen_stats = drug_regimen.agg(Mean=pd.NamedAgg(column=\"Tumor Volume (mm3)\", aggfunc=\"mean\"),\n",
    "                                      Median=pd.NamedAgg(column=\"Tumor Volume (mm3)\", aggfunc=\"median\"),\n",
    "                                      Variance=pd.NamedAgg(column=\"Tumor Volume (mm3)\", aggfunc=\"var\"),\n",
    "                                      St_Deviation=pd.NamedAgg(column=\"Tumor Volume (mm3)\", aggfunc=\"std\"),\n",
    "                                      Sem=pd.NamedAgg(column=\"Tumor Volume (mm3)\", aggfunc=\"sem\"))                                                                                                                              \n",
    "drug_regimen_stats"
   ]
  },
  {
   "cell_type": "markdown",
   "metadata": {},
   "source": [
    "##### Method 2: single line"
   ]
  },
  {
   "cell_type": "code",
   "execution_count": 8,
   "metadata": {
    "scrolled": true
   },
   "outputs": [
    {
     "data": {
      "text/html": [
       "<div>\n",
       "<style scoped>\n",
       "    .dataframe tbody tr th:only-of-type {\n",
       "        vertical-align: middle;\n",
       "    }\n",
       "\n",
       "    .dataframe tbody tr th {\n",
       "        vertical-align: top;\n",
       "    }\n",
       "\n",
       "    .dataframe thead tr th {\n",
       "        text-align: left;\n",
       "    }\n",
       "\n",
       "    .dataframe thead tr:last-of-type th {\n",
       "        text-align: right;\n",
       "    }\n",
       "</style>\n",
       "<table border=\"1\" class=\"dataframe\">\n",
       "  <thead>\n",
       "    <tr>\n",
       "      <th></th>\n",
       "      <th colspan=\"5\" halign=\"left\">Tumor Volume (mm3)</th>\n",
       "    </tr>\n",
       "    <tr>\n",
       "      <th></th>\n",
       "      <th>Mean</th>\n",
       "      <th>Median</th>\n",
       "      <th>Variance</th>\n",
       "      <th>St_Deviation</th>\n",
       "      <th>Sem</th>\n",
       "    </tr>\n",
       "    <tr>\n",
       "      <th>Drug Regimen</th>\n",
       "      <th></th>\n",
       "      <th></th>\n",
       "      <th></th>\n",
       "      <th></th>\n",
       "      <th></th>\n",
       "    </tr>\n",
       "  </thead>\n",
       "  <tbody>\n",
       "    <tr>\n",
       "      <th>Capomulin</th>\n",
       "      <td>40.675741</td>\n",
       "      <td>41.557809</td>\n",
       "      <td>24.947764</td>\n",
       "      <td>4.994774</td>\n",
       "      <td>0.329346</td>\n",
       "    </tr>\n",
       "    <tr>\n",
       "      <th>Ceftamin</th>\n",
       "      <td>52.591172</td>\n",
       "      <td>51.776157</td>\n",
       "      <td>39.290177</td>\n",
       "      <td>6.268188</td>\n",
       "      <td>0.469821</td>\n",
       "    </tr>\n",
       "    <tr>\n",
       "      <th>Infubinol</th>\n",
       "      <td>52.884795</td>\n",
       "      <td>51.820584</td>\n",
       "      <td>43.128684</td>\n",
       "      <td>6.567243</td>\n",
       "      <td>0.492236</td>\n",
       "    </tr>\n",
       "    <tr>\n",
       "      <th>Ketapril</th>\n",
       "      <td>55.235638</td>\n",
       "      <td>53.698743</td>\n",
       "      <td>68.553577</td>\n",
       "      <td>8.279709</td>\n",
       "      <td>0.603860</td>\n",
       "    </tr>\n",
       "    <tr>\n",
       "      <th>Naftisol</th>\n",
       "      <td>54.331565</td>\n",
       "      <td>52.509285</td>\n",
       "      <td>66.173479</td>\n",
       "      <td>8.134708</td>\n",
       "      <td>0.596466</td>\n",
       "    </tr>\n",
       "    <tr>\n",
       "      <th>Placebo</th>\n",
       "      <td>54.033581</td>\n",
       "      <td>52.288934</td>\n",
       "      <td>61.168083</td>\n",
       "      <td>7.821003</td>\n",
       "      <td>0.581331</td>\n",
       "    </tr>\n",
       "    <tr>\n",
       "      <th>Propriva</th>\n",
       "      <td>52.458254</td>\n",
       "      <td>50.854632</td>\n",
       "      <td>44.053659</td>\n",
       "      <td>6.637293</td>\n",
       "      <td>0.540135</td>\n",
       "    </tr>\n",
       "    <tr>\n",
       "      <th>Ramicane</th>\n",
       "      <td>40.216745</td>\n",
       "      <td>40.673236</td>\n",
       "      <td>23.486704</td>\n",
       "      <td>4.846308</td>\n",
       "      <td>0.320955</td>\n",
       "    </tr>\n",
       "    <tr>\n",
       "      <th>Stelasyn</th>\n",
       "      <td>54.233149</td>\n",
       "      <td>52.431737</td>\n",
       "      <td>59.450562</td>\n",
       "      <td>7.710419</td>\n",
       "      <td>0.573111</td>\n",
       "    </tr>\n",
       "    <tr>\n",
       "      <th>Zoniferol</th>\n",
       "      <td>53.236507</td>\n",
       "      <td>51.818479</td>\n",
       "      <td>48.533355</td>\n",
       "      <td>6.966589</td>\n",
       "      <td>0.516398</td>\n",
       "    </tr>\n",
       "  </tbody>\n",
       "</table>\n",
       "</div>"
      ],
      "text/plain": [
       "             Tumor Volume (mm3)                                             \n",
       "                           Mean     Median   Variance St_Deviation       Sem\n",
       "Drug Regimen                                                                \n",
       "Capomulin             40.675741  41.557809  24.947764     4.994774  0.329346\n",
       "Ceftamin              52.591172  51.776157  39.290177     6.268188  0.469821\n",
       "Infubinol             52.884795  51.820584  43.128684     6.567243  0.492236\n",
       "Ketapril              55.235638  53.698743  68.553577     8.279709  0.603860\n",
       "Naftisol              54.331565  52.509285  66.173479     8.134708  0.596466\n",
       "Placebo               54.033581  52.288934  61.168083     7.821003  0.581331\n",
       "Propriva              52.458254  50.854632  44.053659     6.637293  0.540135\n",
       "Ramicane              40.216745  40.673236  23.486704     4.846308  0.320955\n",
       "Stelasyn              54.233149  52.431737  59.450562     7.710419  0.573111\n",
       "Zoniferol             53.236507  51.818479  48.533355     6.966589  0.516398"
      ]
     },
     "execution_count": 8,
     "metadata": {},
     "output_type": "execute_result"
    }
   ],
   "source": [
    "# Generate a summary statistics table of mean, median, variance, standard deviation, and SEM of the tumor volume for each regimen\n",
    "statistics_mouse= clean_mouse_df[[\"Drug Regimen\",\"Tumor Volume (mm3)\"]].groupby(\"Drug Regimen\").agg([\"mean\",\"median\",\"var\",\"std\",\"sem\"])\n",
    "\n",
    "\n",
    "stats_mouse_df = statistics_mouse.rename(columns = {\"mean\":\"Mean\",\"median\":\"Median\",\n",
    "                                                    \"var\":\"Variance\", \"std\":\"St_Deviation\",\"sem\":\"Sem\"})\n",
    "stats_mouse_df"
   ]
  },
  {
   "cell_type": "markdown",
   "metadata": {},
   "source": [
    "## Bar Plots\n",
    "#### Number of mice per time point for each treatment throughout the course of the study"
   ]
  },
  {
   "cell_type": "markdown",
   "metadata": {},
   "source": [
    "##### Method 1: Pandas"
   ]
  },
  {
   "cell_type": "code",
   "execution_count": 70,
   "metadata": {},
   "outputs": [
    {
     "data": {
      "image/png": "[encoded data removed]",
      "text/plain": [
       "<Figure size 2520x864 with 1 Axes>"
      ]
     },
     "metadata": {
      "needs_background": "light"
     },
     "output_type": "display_data"
    }
   ],
   "source": [
    "#Grouping by Drug Regimen and Timepoint, and calculating the mice count\n",
    "\n",
    "mice_bar_analysis = clean_mouse_df.groupby([\"Drug Regimen\",\"Timepoint\"])\n",
    "mice_bar_counts_df = mice_bar_analysis.agg(Mouse_Count=pd.NamedAgg(column=\"Mouse ID\", aggfunc=\"count\"))\n",
    "\n",
    "# Generating the bar plot with pandas\n",
    "mice_bar_counts_df.unstack(0).plot(kind=\"bar\",figsize=(35,12))\n",
    "plt.legend(loc=\"lower center\",bbox_to_anchor=(0.5,1.1),ncol=10,fancybox=True,fontsize=25,labels=labels)\n",
    "plt.title(\"Mice Count per Drug Regime\",fontsize=30)\n",
    "plt.ylabel(\"Mice Count\",fontsize=30)\n",
    "plt.xlabel(\"Timepoint(Days)\",fontsize=30)\n",
    "plt.xlim(-0.75,len(mice_bar_counts_df)/10-0.25)\n",
    "#Assigning ticks to the x axis\n",
    "labels= mice_bar_counts_df.index.get_level_values(0).unique()\n",
    "unique_mice_count= mice_bar_counts_df[\"Mouse_Count\"].unique()\n",
    "plt.tick_params(axis=\"y\",labelsize=20)\n",
    "plt.tick_params(axis=\"x\",labelsize=20,rotation=0)\n",
    "plt.ylim(0,len(unique_mice_count)+8)\n",
    "plt.tight_layout()\n",
    "plt.show()"
   ]
  },
  {
   "cell_type": "markdown",
   "metadata": {},
   "source": [
    "##### Method 2: Matplotlib \"Pyplot\""
   ]
  },
  {
   "cell_type": "code",
   "execution_count": 73,
   "metadata": {},
   "outputs": [
    {
     "data": {
      "image/png": "[encoded data removed]",
      "text/plain": [
       "<Figure size 1440x504 with 1 Axes>"
      ]
     },
     "metadata": {
      "needs_background": "light"
     },
     "output_type": "display_data"
    }
   ],
   "source": [
    "#filterig source data to plot\n",
    "mice_bar_df= mice_bar_analysis[\"Mouse ID\"].count()\n",
    "mice_bar_df= mice_bar_df.reset_index()\n",
    "labels= mice_bar_df[\"Timepoint\"].unique()\n",
    "regimens= mice_bar_df[\"Drug Regimen\"].unique()\n",
    "timepoints= mice_bar_df[\"Timepoint\"].unique()\n",
    "x = np.arange(len(timepoints))\n",
    "\n",
    "# Empty dictionary to store mice count per timepoint for each regimen\n",
    "d={}\n",
    "\n",
    "for regimen in regimens:\n",
    "     d[str(regimen)]=mice_bar_df.loc[mice_bar_df[\"Drug Regimen\"]==regimen][\"Mouse ID\"]\n",
    "\n",
    "#Defining x axis and labels\n",
    "\n",
    "x = np.arange(len(timepoints)) \n",
    "labels = timepoints\n",
    "\n",
    "# the width of the bars\n",
    "width = 0.05\n",
    "\n",
    "# Plotting all bars\n",
    "\n",
    "fig, ax = plt.subplots(figsize=(20, 7))\n",
    "w=0\n",
    "for regimen in regimens:\n",
    "    ax.bar(x+(-4.5+w)*width, d[str(regimen)],width, label=str(regimen))\n",
    "    w+=1\n",
    "    \n",
    "# Add some text for labels, title and custom x-axis tick labels, etc.\n",
    "ax.set_ylabel('Mice Count',fontsize=17)\n",
    "ax.set_xlabel('Timepoint(Days)',fontsize=17)\n",
    "ax.set_title('Mice Count per Drug Regime',fontsize=17)\n",
    "ax.set_xticks(x)\n",
    "ax.set_xticklabels(labels, fontsize=15)\n",
    "ax.tick_params(axis=\"y\",labelsize=15)\n",
    "ax.legend(loc=\"lower center\",bbox_to_anchor=(0.5,1.05),ncol=10,fancybox=True,fontsize=15)\n",
    "fig.tight_layout()\n",
    "plt.show()\n",
    "    "
   ]
  },
  {
   "cell_type": "markdown",
   "metadata": {},
   "source": [
    "## Pie Plots\n",
    "#### Distribution of female or male mice in the study."
   ]
  },
  {
   "cell_type": "markdown",
   "metadata": {},
   "source": [
    "##### Method 1: Pandas"
   ]
  },
  {
   "cell_type": "code",
   "execution_count": 74,
   "metadata": {},
   "outputs": [
    {
     "data": {
      "text/html": [
       "<div>\n",
       "<style scoped>\n",
       "    .dataframe tbody tr th:only-of-type {\n",
       "        vertical-align: middle;\n",
       "    }\n",
       "\n",
       "    .dataframe tbody tr th {\n",
       "        vertical-align: top;\n",
       "    }\n",
       "\n",
       "    .dataframe thead th {\n",
       "        text-align: right;\n",
       "    }\n",
       "</style>\n",
       "<table border=\"1\" class=\"dataframe\">\n",
       "  <thead>\n",
       "    <tr style=\"text-align: right;\">\n",
       "      <th></th>\n",
       "      <th>Sex</th>\n",
       "      <th>Mouse ID</th>\n",
       "    </tr>\n",
       "  </thead>\n",
       "  <tbody>\n",
       "    <tr>\n",
       "      <th>0</th>\n",
       "      <td>Female</td>\n",
       "      <td>925</td>\n",
       "    </tr>\n",
       "    <tr>\n",
       "      <th>1</th>\n",
       "      <td>Male</td>\n",
       "      <td>958</td>\n",
       "    </tr>\n",
       "  </tbody>\n",
       "</table>\n",
       "</div>"
      ],
      "text/plain": [
       "      Sex  Mouse ID\n",
       "0  Female       925\n",
       "1    Male       958"
      ]
     },
     "execution_count": 74,
     "metadata": {},
     "output_type": "execute_result"
    }
   ],
   "source": [
    "#distribution of female versus male mice\n",
    "sex_distribution= clean_mouse_df.groupby(\"Sex\")\n",
    "mice_gender= sex_distribution[\"Mouse ID\"].count()\n",
    "mice_gender_df= mice_gender.reset_index()\n",
    "gender_list= list(mice_gender_df[\"Sex\"])\n",
    "mice_gender_df"
   ]
  },
  {
   "cell_type": "code",
   "execution_count": 75,
   "metadata": {},
   "outputs": [
    {
     "data": {
      "image/png": "[encoded data removed]",
      "text/plain": [
       "<Figure size 360x360 with 1 Axes>"
      ]
     },
     "metadata": {},
     "output_type": "display_data"
    },
    {
     "data": {
      "text/plain": [
       "<Figure size 432x288 with 0 Axes>"
      ]
     },
     "metadata": {},
     "output_type": "display_data"
    }
   ],
   "source": [
    "# Generate the pie plot with pandas\n",
    "gender_pie= mice_gender.plot.pie(y=\"Mouse ID\",autopct='%1.0f%%',startangle=90, radius=0.5, title=\"Mice Gender Distribution\",\n",
    "                            colors=[\"blue\",\"red\"],figsize=(5, 5))\n",
    "gender_pie.set_ylabel(\" \")\n",
    "plt.axis(\"equal\")\n",
    "plt.show()\n",
    "plt.tight_layout()"
   ]
  },
  {
   "cell_type": "markdown",
   "metadata": {},
   "source": [
    "##### Method 2: Matplotlib \"Pyplot\""
   ]
  },
  {
   "cell_type": "code",
   "execution_count": 76,
   "metadata": {},
   "outputs": [
    {
     "data": {
      "image/png": "[encoded data removed]",
      "text/plain": [
       "<Figure size 360x360 with 1 Axes>"
      ]
     },
     "metadata": {},
     "output_type": "display_data"
    }
   ],
   "source": [
    "# Defining labels, yvalue, pie colors\n",
    "labels=mice_gender_df[\"Sex\"]\n",
    "sizes= mice_gender_df[\"Mouse ID\"]\n",
    "colors=[\"blue\",\"red\"]\n",
    "\n",
    "#Plotting\n",
    "\n",
    "fig, ax = plt.subplots(figsize=(5,5))\n",
    "ax.pie(sizes,labels=labels,colors=colors,autopct='%1.0f%%',startangle=90, radius=0.5)\n",
    "ax.set(title='Mice Gender Distribution')\n",
    "ax.axis('equal')\n",
    "plt.show()"
   ]
  },
  {
   "cell_type": "markdown",
   "metadata": {},
   "source": [
    "## Quartiles, Outliers and Boxplots"
   ]
  },
  {
   "cell_type": "markdown",
   "metadata": {},
   "source": [
    "#### The below analysis took in count only those mouses that lasted until day 45 of the study. Its risky to asume that the rest of the mices that don't appear at day 45 died , because we don't know the background of the study, and we cannot confirm this fact. However below you can see the results behaviour for the 63 mouses at day 45:"
   ]
  },
  {
   "cell_type": "code",
   "execution_count": 32,
   "metadata": {
    "scrolled": true
   },
   "outputs": [
    {
     "data": {
      "image/png": "[encoded data removed]",
      "text/plain": [
       "<Figure size 432x288 with 1 Axes>"
      ]
     },
     "metadata": {
      "needs_background": "light"
     },
     "output_type": "display_data"
    }
   ],
   "source": [
    "# Calculate the final tumor volume of each mouse across four of the most promising treatment regimens. Calculate the IQR and quantitatively determine if there are any potential outliers. \n",
    "total_tumor_volume= clean_mouse_df.loc[(clean_mouse_df[\"Timepoint\"]==45)&((clean_mouse_df[\"Drug Regimen\"]==\"Capomulin\")|(clean_mouse_df[\"Drug Regimen\"]==\"Ramicane\")\\\n",
    "                                                                         |(clean_mouse_df[\"Drug Regimen\"]==\"Infubinol\")|(clean_mouse_df[\"Drug Regimen\"]==\"Ceftamin\"))]\n",
    "\n",
    "capomulin_box_df=total_tumor_volume.loc[(total_tumor_volume[\"Drug Regimen\"]==\"Capomulin\")]\n",
    "ramicane_box_df=total_tumor_volume.loc[(total_tumor_volume[\"Drug Regimen\"]==\"Ramicane\")]\n",
    "infubinol_box_df=total_tumor_volume.loc[(total_tumor_volume[\"Drug Regimen\"]==\"Infubinol\")]\n",
    "ceftamin_box_df=total_tumor_volume.loc[(total_tumor_volume[\"Drug Regimen\"]==\"Ceftamin\")]\n",
    "\n",
    "data = [capomulin_box_df[\"Tumor Volume (mm3)\"],ramicane_box_df[\"Tumor Volume (mm3)\"],infubinol_box_df[\"Tumor Volume (mm3)\"],ceftamin_box_df[\"Tumor Volume (mm3)\"]]\n",
    "ticks= np.arange(1,len(total_tumor_volume[\"Drug Regimen\"].unique())+1)\n",
    "fig, ax = plt.subplots()\n",
    "ax.set_title('Final Tumor Volume Box and Whisker Plot')\n",
    "ax.boxplot(data)\n",
    "ax.set_ylabel(\"Tumor Volume (mm3)\")\n",
    "plt.xticks(ticks,[\"Capomulin\",\"Ramicane\",\"Infubinol\",\"Ceftamin\"])\n",
    "plt.show()"
   ]
  },
  {
   "cell_type": "markdown",
   "metadata": {},
   "source": [
    "#### The real way through which the final tumor volume of each mouse across four of the most promising treatment regimens can be analized, is by picking the last \"Timepoint\" reported for each mice, even if there are mices that only has data for \"0 Days\":"
   ]
  },
  {
   "cell_type": "code",
   "execution_count": 33,
   "metadata": {},
   "outputs": [
    {
     "data": {
      "text/html": [
       "<div>\n",
       "<style scoped>\n",
       "    .dataframe tbody tr th:only-of-type {\n",
       "        vertical-align: middle;\n",
       "    }\n",
       "\n",
       "    .dataframe tbody tr th {\n",
       "        vertical-align: top;\n",
       "    }\n",
       "\n",
       "    .dataframe thead th {\n",
       "        text-align: right;\n",
       "    }\n",
       "</style>\n",
       "<table border=\"1\" class=\"dataframe\">\n",
       "  <thead>\n",
       "    <tr style=\"text-align: right;\">\n",
       "      <th></th>\n",
       "      <th>Lowerq</th>\n",
       "      <th>Median</th>\n",
       "      <th>Upperq</th>\n",
       "      <th>IQR</th>\n",
       "      <th>Lower Bound</th>\n",
       "      <th>Upper Bound</th>\n",
       "    </tr>\n",
       "  </thead>\n",
       "  <tbody>\n",
       "    <tr>\n",
       "      <th>Ceftamin</th>\n",
       "      <td>48.722078</td>\n",
       "      <td>59.851956</td>\n",
       "      <td>64.299830</td>\n",
       "      <td>15.577752</td>\n",
       "      <td>25.355450</td>\n",
       "      <td>87.666458</td>\n",
       "    </tr>\n",
       "    <tr>\n",
       "      <th>Ramicane</th>\n",
       "      <td>31.560470</td>\n",
       "      <td>36.561652</td>\n",
       "      <td>40.659006</td>\n",
       "      <td>9.098537</td>\n",
       "      <td>17.912664</td>\n",
       "      <td>54.306811</td>\n",
       "    </tr>\n",
       "    <tr>\n",
       "      <th>Infubinol</th>\n",
       "      <td>54.048608</td>\n",
       "      <td>60.165180</td>\n",
       "      <td>65.525743</td>\n",
       "      <td>11.477135</td>\n",
       "      <td>36.832905</td>\n",
       "      <td>82.741446</td>\n",
       "    </tr>\n",
       "    <tr>\n",
       "      <th>Capomulin</th>\n",
       "      <td>32.377357</td>\n",
       "      <td>38.125164</td>\n",
       "      <td>40.159220</td>\n",
       "      <td>7.781863</td>\n",
       "      <td>20.704562</td>\n",
       "      <td>51.832015</td>\n",
       "    </tr>\n",
       "  </tbody>\n",
       "</table>\n",
       "</div>"
      ],
      "text/plain": [
       "              Lowerq     Median     Upperq        IQR  Lower Bound  \\\n",
       "Ceftamin   48.722078  59.851956  64.299830  15.577752    25.355450   \n",
       "Ramicane   31.560470  36.561652  40.659006   9.098537    17.912664   \n",
       "Infubinol  54.048608  60.165180  65.525743  11.477135    36.832905   \n",
       "Capomulin  32.377357  38.125164  40.159220   7.781863    20.704562   \n",
       "\n",
       "           Upper Bound  \n",
       "Ceftamin     87.666458  \n",
       "Ramicane     54.306811  \n",
       "Infubinol    82.741446  \n",
       "Capomulin    51.832015  "
      ]
     },
     "execution_count": 33,
     "metadata": {},
     "output_type": "execute_result"
    }
   ],
   "source": [
    "# Sorting the initial dataset, dropping duplicated values, but keeping the last one(45 days)\n",
    "tumor_total=clean_mouse_df.sort_values(\"Timepoint\").drop_duplicates(subset=[\"Mouse ID\"],keep=\"last\")\n",
    "tumor= tumor_total.loc[(tumor_total[\"Drug Regimen\"]==\"Capomulin\")|(tumor_total[\"Drug Regimen\"]==\"Ramicane\")\\\n",
    "                                                                         |(tumor_total[\"Drug Regimen\"]==\"Infubinol\")|(tumor_total[\"Drug Regimen\"]==\"Ceftamin\"),:]\n",
    "#Calculating a DataFrame to calculate by a \"Quantitative\" way the IQR and possible outliers\n",
    "promise_regimens=list(tumor[\"Drug Regimen\"].unique())\n",
    "a={}\n",
    "for reg in promise_regimens:\n",
    "    a[str(reg)]= tumor.loc[(tumor[\"Drug Regimen\"]==reg)][\"Tumor Volume (mm3)\"].quantile([.25,.5,.75]).to_dict()\n",
    "mice_quartiles_df= pd.DataFrame.from_dict({(i): a[i]\n",
    "                       for i in a.keys()} ,orient=\"index\")\n",
    "\n",
    "mice_quartiles_df=mice_quartiles_df.rename(columns={0.25:\"Lowerq\",0.50:\"Median\",0.75:\"Upperq\"})\n",
    "mice_quartiles_df[\"IQR\"]=mice_quartiles_df[\"Upperq\"]- mice_quartiles_df[\"Lowerq\"]\n",
    "mice_quartiles_df[\"Lower Bound\"]=mice_quartiles_df[\"Lowerq\"]-(1.5*mice_quartiles_df[\"IQR\"])\n",
    "mice_quartiles_df[\"Upper Bound\"]=mice_quartiles_df[\"Upperq\"]+(1.5*mice_quartiles_df[\"IQR\"])\n",
    "mice_quartiles_df"
   ]
  },
  {
   "cell_type": "code",
   "execution_count": 52,
   "metadata": {},
   "outputs": [
    {
     "name": "stdout",
     "output_type": "stream",
     "text": [
      "For Ceftamin values greater than 87.67 (mm3) or less than 25.36 (mm3) could be treated as outliers\n",
      "For Ramicane values greater than 54.31 (mm3) or less than 17.91 (mm3) could be treated as outliers\n",
      "For Infubinol values greater than 82.74 (mm3) or less than 36.83 (mm3) could be treated as outliers\n",
      "For Capomulin values greater than 51.83 (mm3) or less than 20.7 (mm3) could be treated as outliers\n"
     ]
    }
   ],
   "source": [
    "print(f\"For {promise_regimens[0]} values greater than {round(mice_quartiles_df.iloc[0,5],2)} (mm3) or less than {round(mice_quartiles_df.iloc[0,4],2)} (mm3) could be treated as outliers\")\n",
    "print(f\"For {promise_regimens[1]} values greater than {round(mice_quartiles_df.iloc[1,5],2)} (mm3) or less than {round(mice_quartiles_df.iloc[1,4],2)} (mm3) could be treated as outliers\")\n",
    "print(f\"For {promise_regimens[2]} values greater than {round(mice_quartiles_df.iloc[2,5],2)} (mm3) or less than {round(mice_quartiles_df.iloc[2,4],2)} (mm3) could be treated as outliers\")\n",
    "print(f\"For {promise_regimens[3]} values greater than {round(mice_quartiles_df.iloc[3,5],2)} (mm3) or less than {round(mice_quartiles_df.iloc[3,4],2)} (mm3) could be treated as outliers\")"
   ]
  },
  {
   "cell_type": "markdown",
   "metadata": {},
   "source": [
    "#### Now graphycally representing possible outliers, generating a Box and Whisker Plot, it can be seen that for \"Infubinol\" drug regimen, there is one outlier that is less than 36.83(mm3):"
   ]
  },
  {
   "cell_type": "code",
   "execution_count": 38,
   "metadata": {},
   "outputs": [
    {
     "data": {
      "image/png": "[encoded data removed]",
      "text/plain": [
       "<Figure size 432x288 with 1 Axes>"
      ]
     },
     "metadata": {
      "needs_background": "light"
     },
     "output_type": "display_data"
    }
   ],
   "source": [
    "#Generating a mutliple box plot for the four most promising drug regimens:\n",
    "\n",
    "#Filtering drug regimen from the last tumor volumen \n",
    "capomulin_box=tumor.loc[(tumor[\"Drug Regimen\"]==\"Capomulin\")][\"Tumor Volume (mm3)\"]\n",
    "ramicane_box=tumor.loc[(tumor[\"Drug Regimen\"]==\"Ramicane\")][\"Tumor Volume (mm3)\"]\n",
    "infubinol_box=tumor.loc[(tumor[\"Drug Regimen\"]==\"Infubinol\")][\"Tumor Volume (mm3)\"]\n",
    "ceftamin_box=tumor.loc[(tumor[\"Drug Regimen\"]==\"Ceftamin\")][\"Tumor Volume (mm3)\"]\n",
    "\n",
    "#Generating one plot for all four regimens\n",
    "green_diamond = dict(markerfacecolor='g', marker='D')\n",
    "data = [capomulin_box,ramicane_box,infubinol_box,ceftamin_box]\n",
    "ticks_2= np.arange(1,len(total_tumor_volume[\"Drug Regimen\"].unique())+1)\n",
    "fig, ax = plt.subplots()\n",
    "ax.set_title('Final Tumor Volume Box and Whisker Plot')\n",
    "ax.boxplot(data,flierprops=green_diamond)\n",
    "ax.set_ylabel(\"Tumor Volume (mm3)\")\n",
    "plt.xticks(ticks,[\"Capomulin\",\"Ramicane\",\"Infubinol\",\"Ceftamin\"])\n",
    "plt.show()"
   ]
  },
  {
   "cell_type": "markdown",
   "metadata": {},
   "source": [
    "## Line and Scatter Plots"
   ]
  },
  {
   "cell_type": "markdown",
   "metadata": {},
   "source": [
    "#### In this part of the analysis, a line plot was generated to see time point versus tumor volume for a single mouse treated with Capomulin. Mice with ID \"s185\" was selected:"
   ]
  },
  {
   "cell_type": "code",
   "execution_count": 58,
   "metadata": {},
   "outputs": [
    {
     "data": {
      "text/plain": [
       "<function matplotlib.pyplot.show(*args, **kw)>"
      ]
     },
     "execution_count": 58,
     "metadata": {},
     "output_type": "execute_result"
    },
    {
     "data": {
      "image/png": "[encoded data removed]",
      "text/plain": [
       "<Figure size 432x288 with 1 Axes>"
      ]
     },
     "metadata": {
      "needs_background": "light"
     },
     "output_type": "display_data"
    }
   ],
   "source": [
    "# Selecting a mice id from Capomulin drug regimen data\n",
    "\n",
    "mice_line=clean_mouse_df.set_index(\"Mouse ID\")\n",
    "mice_line= mice_line.loc[mice_line[\"Drug Regimen\"]==\"Capomulin\"]\n",
    "mice= \"s185\"\n",
    "single_mice=mice_line.loc[mice]\n",
    "\n",
    "# Plotting\n",
    "plt.plot(single_mice[\"Timepoint\"],single_mice[\"Tumor Volume (mm3)\"],marker=\"o\",color=\"red\",alpha=0.85)\n",
    "plt.xlabel(\"Timepoint(Days)\")\n",
    "plt.ylabel(\"Tumor Volume (mm3)\")\n",
    "plt.xlim(0,47)\n",
    "plt.ylim(20,47)\n",
    "plt.xticks(list(single_mice[\"Timepoint\"]))\n",
    "plt.title(\"Mouse \" + (mice) + \" tumor evolution during 45 days\")\n",
    "plt.show"
   ]
  },
  {
   "cell_type": "markdown",
   "metadata": {},
   "source": [
    "#### Creating a scatter plot of mouse weight versus average tumor volume for the Capomulin treatment regimen:"
   ]
  },
  {
   "cell_type": "code",
   "execution_count": 63,
   "metadata": {},
   "outputs": [
    {
     "data": {
      "image/png": "[encoded data removed]",
      "text/plain": [
       "<Figure size 432x288 with 1 Axes>"
      ]
     },
     "metadata": {
      "needs_background": "light"
     },
     "output_type": "display_data"
    }
   ],
   "source": [
    "#Grouping by \"Capomulin\" treatment and generated a new dataframe with the Tumor Volume average.\n",
    "\n",
    "mouse_scatter=clean_mouse_df.loc[clean_mouse_df[\"Drug Regimen\"]==\"Capomulin\",:]\n",
    "scatter_analysis=mouse_scatter.groupby(\"Mouse ID\")\n",
    "mice_scatter_plot =scatter_analysis.agg(Avg_Tumor_Volume=pd.NamedAgg(column=\"Tumor Volume (mm3)\", aggfunc=\"mean\"),\n",
    "                                       Weight=pd.NamedAgg(column=\"Weight (g)\", aggfunc=\"mean\"))\n",
    "\n",
    "#Plotting the scatter chart\n",
    "\n",
    "plt.scatter(mice_scatter_plot[\"Avg_Tumor_Volume\"],mice_scatter_plot[\"Weight\"],facecolor=\"red\",marker=\"o\",edgecolor=\"black\",alpha=0.75)\n",
    "plt.title(\"Capomulin weight versus average tumor volume\")\n",
    "plt.xlabel(\"Avg Tumor Volume (mm3)\")\n",
    "plt.ylabel(\"Mice Weight(g)\")\n",
    "plt.show()\n",
    "\n",
    "\n"
   ]
  },
  {
   "cell_type": "markdown",
   "metadata": {},
   "source": [
    "## Correlation and Linear Regression Model\n",
    "#### Mouse weight and average tumor calculation for the Capomulin drug regimen"
   ]
  },
  {
   "cell_type": "code",
   "execution_count": 29,
   "metadata": {},
   "outputs": [
    {
     "name": "stdout",
     "output_type": "stream",
     "text": [
      " The correlation coefficient for mouse weight and average tumor volume for the Capomulin Regimen is 0.84\n"
     ]
    }
   ],
   "source": [
    "#Correlation coefficient calculation\n",
    "corr=st.pearsonr(mice_scatter_plot[\"Avg_Tumor_Volume\"],mice_scatter_plot[\"Weight\"])\n",
    "corr_factor = (round(corr[0],2))\n",
    "print(f\" The correlation coefficient for mouse weight and average tumor volume for the Capomulin Regimen is {corr_factor}\")\n"
   ]
  },
  {
   "cell_type": "code",
   "execution_count": 64,
   "metadata": {},
   "outputs": [
    {
     "data": {
      "image/png": "[encoded data removed]",
      "text/plain": [
       "<Figure size 432x288 with 1 Axes>"
      ]
     },
     "metadata": {
      "needs_background": "light"
     },
     "output_type": "display_data"
    },
    {
     "name": "stdout",
     "output_type": "stream",
     "text": [
      "The r-squared is: 0.7088568047708717\n"
     ]
    }
   ],
   "source": [
    "#Plotting scatter chart, line curve, line equation\n",
    "(slope,intercept,rvalue,pvalue,stderr)=st.linregress(mice_scatter_plot[\"Avg_Tumor_Volume\"],mice_scatter_plot[\"Weight\"])\n",
    "regress_values= mice_scatter_plot[\"Avg_Tumor_Volume\"] * slope + intercept\n",
    "line_eq= \"y=\" + str(round(slope,2)) + \"x+\" + str(round(intercept,2))\n",
    "plt.scatter(mice_scatter_plot[\"Avg_Tumor_Volume\"],mice_scatter_plot[\"Weight\"],facecolor=\"red\",marker=\"o\",edgecolor=\"black\",alpha=0.75)\n",
    "plt.plot(mice_scatter_plot[\"Avg_Tumor_Volume\"],regress_values,\"r-\",color=\"black\")\n",
    "plt.annotate(line_eq,(36,22),fontsize=15,color=\"black\")\n",
    "plt.title(\"Capomulin weight versus average tumor volume\")\n",
    "plt.xlabel(\"Avg Tumor Volume (mm3)\")\n",
    "plt.ylabel(\"Mice Weight(g)\")\n",
    "plt.show()\n",
    "\n",
    "# printing the r-squared factor\n",
    "\n",
    "print(f\"The r-squared is: {rvalue**2}\")"
   ]
  }
 ],
 "metadata": {
  "anaconda-cloud": {},
  "kernelspec": {
   "display_name": "Python [conda env:PythonData] *",
   "language": "python",
   "name": "conda-env-PythonData-py"
  },
  "language_info": {
   "codemirror_mode": {
    "name": "ipython",
    "version": 3
   },
   "file_extension": ".py",
   "mimetype": "text/x-python",
   "name": "python",
   "nbconvert_exporter": "python",
   "pygments_lexer": "ipython3",
   "version": "3.8.2"
  }
 },
 "nbformat": 4,
 "nbformat_minor": 2
}
